{
 "cells": [
  {
   "cell_type": "code",
   "execution_count": 1,
   "metadata": {},
   "outputs": [
    {
     "data": {
      "text/plain": [
       "'1.26.2'"
      ]
     },
     "execution_count": 1,
     "metadata": {},
     "output_type": "execute_result"
    }
   ],
   "source": [
    "import numpy as np\n",
    "np.__version__"
   ]
  },
  {
   "cell_type": "code",
   "execution_count": 2,
   "metadata": {},
   "outputs": [
    {
     "name": "stdout",
     "output_type": "stream",
     "text": [
      "{\n",
      "  \"Compilers\": {\n",
      "    \"c\": {\n",
      "      \"name\": \"msvc\",\n",
      "      \"linker\": \"link\",\n",
      "      \"version\": \"19.29.30152\",\n",
      "      \"commands\": \"cl\"\n",
      "    },\n",
      "    \"cython\": {\n",
      "      \"name\": \"cython\",\n",
      "      \"linker\": \"cython\",\n",
      "      \"version\": \"3.0.5\",\n",
      "      \"commands\": \"cython\"\n",
      "    },\n",
      "    \"c++\": {\n",
      "      \"name\": \"msvc\",\n",
      "      \"linker\": \"link\",\n",
      "      \"version\": \"19.29.30152\",\n",
      "      \"commands\": \"cl\"\n",
      "    }\n",
      "  },\n",
      "  \"Machine Information\": {\n",
      "    \"host\": {\n",
      "      \"cpu\": \"x86_64\",\n",
      "      \"family\": \"x86_64\",\n",
      "      \"endian\": \"little\",\n",
      "      \"system\": \"windows\"\n",
      "    },\n",
      "    \"build\": {\n",
      "      \"cpu\": \"x86_64\",\n",
      "      \"family\": \"x86_64\",\n",
      "      \"endian\": \"little\",\n",
      "      \"system\": \"windows\"\n",
      "    }\n",
      "  },\n",
      "  \"Build Dependencies\": {\n",
      "    \"blas\": {\n",
      "      \"name\": \"openblas64\",\n",
      "      \"found\": true,\n",
      "      \"version\": \"0.3.23.dev\",\n",
      "      \"detection method\": \"pkgconfig\",\n",
      "      \"include directory\": \"/c/opt/64/include\",\n",
      "      \"lib directory\": \"/c/opt/64/lib\",\n",
      "      \"openblas configuration\": \"USE_64BITINT=1 DYNAMIC_ARCH=1 DYNAMIC_OLDER= NO_CBLAS= NO_LAPACK= NO_LAPACKE= NO_AFFINITY=1 USE_OPENMP= SKYLAKEX MAX_THREADS=2\",\n",
      "      \"pc file directory\": \"C:/opt/64/lib/pkgconfig\"\n",
      "    },\n",
      "    \"lapack\": {\n",
      "      \"name\": \"dep2952636600240\",\n",
      "      \"found\": true,\n",
      "      \"version\": \"1.26.2\",\n",
      "      \"detection method\": \"internal\",\n",
      "      \"include directory\": \"unknown\",\n",
      "      \"lib directory\": \"unknown\",\n",
      "      \"openblas configuration\": \"unknown\",\n",
      "      \"pc file directory\": \"unknown\"\n",
      "    }\n",
      "  },\n",
      "  \"Python Information\": {\n",
      "    \"path\": \"C:\\\\Users\\\\runneradmin\\\\AppData\\\\Local\\\\Temp\\\\cibw-run-s5ovp148\\\\cp312-win_amd64\\\\build\\\\venv\\\\Scripts\\\\python.exe\",\n",
      "    \"version\": \"3.12\"\n",
      "  },\n",
      "  \"SIMD Extensions\": {\n",
      "    \"baseline\": [\n",
      "      \"SSE\",\n",
      "      \"SSE2\",\n",
      "      \"SSE3\"\n",
      "    ],\n",
      "    \"found\": [\n",
      "      \"SSSE3\",\n",
      "      \"SSE41\",\n",
      "      \"POPCNT\",\n",
      "      \"SSE42\"\n",
      "    ],\n",
      "    \"not found\": [\n",
      "      \"AVX\",\n",
      "      \"F16C\",\n",
      "      \"FMA3\",\n",
      "      \"AVX2\",\n",
      "      \"AVX512F\",\n",
      "      \"AVX512CD\",\n",
      "      \"AVX512_SKX\",\n",
      "      \"AVX512_CLX\",\n",
      "      \"AVX512_CNL\",\n",
      "      \"AVX512_ICL\"\n",
      "    ]\n",
      "  }\n",
      "}\n"
     ]
    },
    {
     "name": "stderr",
     "output_type": "stream",
     "text": [
      "c:\\Users\\User\\AppData\\Local\\Programs\\Python\\Python312\\Lib\\site-packages\\numpy\\__config__.py:149: UserWarning: Install `pyyaml` for better output\n",
      "  warnings.warn(\"Install `pyyaml` for better output\", stacklevel=1)\n"
     ]
    }
   ],
   "source": [
    "np.show_config()"
   ]
  }
 ],
 "metadata": {
  "kernelspec": {
   "display_name": "Python 3",
   "language": "python",
   "name": "python3"
  },
  "language_info": {
   "codemirror_mode": {
    "name": "ipython",
    "version": 3
   },
   "file_extension": ".py",
   "mimetype": "text/x-python",
   "name": "python",
   "nbconvert_exporter": "python",
   "pygments_lexer": "ipython3",
   "version": "3.12.0"
  }
 },
 "nbformat": 4,
 "nbformat_minor": 2
}
